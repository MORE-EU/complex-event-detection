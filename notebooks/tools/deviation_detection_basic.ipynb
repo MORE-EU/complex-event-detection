{
 "cells": [
  {
   "cell_type": "markdown",
   "id": "3d6c13b0",
   "metadata": {},
   "source": [
    "# Changepoint detection and deviation detection\n",
    "Notebook containing basic functionality of deviation detection."
   ]
  },
  {
   "cell_type": "code",
   "execution_count": 1,
   "id": "69f4147d",
   "metadata": {},
   "outputs": [],
   "source": [
    "import numpy as np\n",
    "import os, sys\n",
    "from sklearn.linear_model import LinearRegression, Ridge, SGDRegressor, Lasso, ElasticNet\n",
    "from sklearn.model_selection import GridSearchCV\n",
    "from sklearn.svm import LinearSVR\n",
    "from sklearn.svm import SVR\n",
    "from sklearn.preprocessing import MinMaxScaler, RobustScaler, StandardScaler\n",
    "from sklearn.pipeline import Pipeline\n",
    "from sklearn.preprocessing import PolynomialFeatures\n",
    "from sklearn import metrics\n",
    "import pandas as pd\n",
    "from matplotlib import pyplot as plt\n",
    "plt.rcParams['axes.facecolor']='w'\n",
    "plt.rcParams['savefig.facecolor']='w'\n",
    "%matplotlib inline \n",
    "#from my_functions import *\n",
    "from modules.preprocessing import *\n",
    "#from modules.statistics import *\n",
    "from modules.learning import *\n",
    "from scipy import stats\n",
    "from modules.experiments import *\n",
    "import matplotlib.dates as mdates\n"
   ]
  },
  {
   "cell_type": "markdown",
   "id": "e10a49dd",
   "metadata": {},
   "source": [
    "## Read data\n",
    "Read input time series. Manual washing dates are given as input. "
   ]
  },
  {
   "cell_type": "code",
   "execution_count": 2,
   "id": "fddf1bd3",
   "metadata": {},
   "outputs": [],
   "source": [
    "filename = './input_panel.csv'\n",
    "dates_wash_start = pd.to_datetime(pd.Series(['2013-03-11 00:00:00', '2013-07-10 00:00:00', '2013-08-14 00:00:00', '2013-08-21 00:00:00', '2013-08-26 00:00:00']))\n",
    "dates_wash_stop = pd.to_datetime(pd.Series(['2013-03-12 00:00:00', '2013-07-11 00:00:00', '2013-08-15 00:00:00', '2013-08-22 00:00:00','2013-08-27 00:00:00']))\n",
    "df = pd.read_csv('./input_panel.csv', index_col = 'timestamp')\n",
    "df = df.dropna()\n",
    "df.index = pd.DatetimeIndex(df.index)"
   ]
  },
  {
   "cell_type": "markdown",
   "id": "f400cb56",
   "metadata": {},
   "source": [
    "## Rescale\n",
    "Use MinMaxScaler to rescale all points to [0,1]."
   ]
  },
  {
   "cell_type": "code",
   "execution_count": 3,
   "id": "f599c734",
   "metadata": {},
   "outputs": [],
   "source": [
    "scaler = MinMaxScaler()\n",
    "df_scaled = pd.DataFrame(scaler.fit_transform(df), columns=df.columns, index=df.index)"
   ]
  },
  {
   "cell_type": "markdown",
   "id": "072022bc",
   "metadata": {},
   "source": [
    "## Extract rains\n",
    "Use precipitation values to extract rains. Each rain corresponds to a maximal period of positive precipitation."
   ]
  },
  {
   "cell_type": "code",
   "execution_count": 4,
   "id": "bdf3749e-484b-4576-9b72-18db5a08dd8d",
   "metadata": {},
   "outputs": [],
   "source": [
    "if df.precipitation.iloc[0]>0:\n",
    "    precipitation = pd.concat([pd.Series({min(df.index)-pd.Timedelta('1s'): 0}),df.precipitation])\n",
    "else:\n",
    "    precipitation = df.precipitation\n",
    "\n",
    "precipitation.index = pd.to_datetime(precipitation.index)\n",
    "df_dates = pd.DataFrame(index = precipitation.index)\n",
    "df_dates[\"rain_start\"] = precipitation[(precipitation.shift(-1) > 0) & (precipitation == 0)] # compare current to next\n",
    "df_dates[\"rain_stop\"] = precipitation[(precipitation.shift(1) > 0) & (precipitation == 0)] # compare current to prev\n",
    "dates_rain_start = pd.Series(df_dates.rain_start.index[df_dates.rain_start.notna()])\n",
    "dates_rain_stop = pd.Series(df_dates.rain_stop.index[df_dates.rain_stop.notna()])"
   ]
  },
  {
   "cell_type": "markdown",
   "id": "7e4321b2",
   "metadata": {},
   "source": [
    "Number of rains:"
   ]
  },
  {
   "cell_type": "code",
   "execution_count": 5,
   "id": "18618394",
   "metadata": {},
   "outputs": [
    {
     "data": {
      "text/plain": [
       "69"
      ]
     },
     "execution_count": 5,
     "metadata": {},
     "output_type": "execute_result"
    }
   ],
   "source": [
    "dates_rain_stop.shape[0]"
   ]
  },
  {
   "cell_type": "markdown",
   "id": "4fdd218b",
   "metadata": {},
   "source": [
    "### Filter out light rains\n",
    "Any rain with maximum precipitation less than x is considered light."
   ]
  },
  {
   "cell_type": "code",
   "execution_count": 6,
   "id": "f2802ebb",
   "metadata": {},
   "outputs": [],
   "source": [
    "x = 0.1\n",
    "ids = []\n",
    "for idx in range(dates_rain_start.size):\n",
    "    d1 = dates_rain_start[idx]\n",
    "    d2 = dates_rain_stop[idx]\n",
    "    if np.max(precipitation.loc[d1:d2]) >= x:\n",
    "        ids.append(idx)\n",
    "dates_rain_start_filtered = dates_rain_start[ids]\n",
    "dates_rain_stop_filtered = dates_rain_stop[ids]"
   ]
  },
  {
   "cell_type": "markdown",
   "id": "2897c090",
   "metadata": {},
   "source": [
    "Number of remaining rains:"
   ]
  },
  {
   "cell_type": "code",
   "execution_count": 7,
   "id": "8fb9106c",
   "metadata": {},
   "outputs": [
    {
     "data": {
      "text/plain": [
       "69"
      ]
     },
     "execution_count": 7,
     "metadata": {},
     "output_type": "execute_result"
    }
   ],
   "source": [
    "dates_rain_stop_filtered.shape[0]"
   ]
  },
  {
   "cell_type": "markdown",
   "id": "9fc1e971",
   "metadata": {},
   "source": [
    "### Regression model trained after manual cleanings \n",
    "Train a regression model on periods of w_train days after the manual washings of the panels."
   ]
  },
  {
   "cell_type": "code",
   "execution_count": 8,
   "id": "8266da52",
   "metadata": {},
   "outputs": [
    {
     "name": "stdout",
     "output_type": "stream",
     "text": [
      "Training Metrics:\n",
      "MAE:0.007 \n",
      "ME(true-pred):-0.000 \n",
      "MAPE:0.029 \n",
      "R2: 0.998\n",
      "\n",
      "Validation Metrics:\n",
      "MAE:0.007 \n",
      "ME(true-pred):-0.000 \n",
      "MAPE:0.030 \n",
      "MPE:-0.000 \n",
      "R2: 0.998\n",
      "\n"
     ]
    },
    {
     "data": {
      "text/plain": [
       "array([ 9.98135047e-01,  7.41077772e-03, -5.78349293e-05,  2.96083337e-02,\n",
       "       -2.31068310e-04,  2.50896395e-03])"
      ]
     },
     "execution_count": 8,
     "metadata": {},
     "output_type": "execute_result"
    }
   ],
   "source": [
    "w_train = 30\n",
    "feats = ['irradiance', 'mod_temp']\n",
    "target = 'power'\n",
    "ref_points2 = pd.Index(dates_wash_stop)\n",
    "model2, training_error2, validation_error2 = train_on_reference_points(df_scaled, w_train, ref_points2, feats, target)\n",
    "validation_error2"
   ]
  },
  {
   "cell_type": "markdown",
   "id": "1d6677ac",
   "metadata": {},
   "source": [
    "## Detect changepoints"
   ]
  },
  {
   "cell_type": "markdown",
   "id": "f2b163d7",
   "metadata": {},
   "source": [
    "Two methods for detecting changepoints. \n",
    "Method 1. For each rain (or manual cleaning), we train and validate a regression model in the time period right before it, and we test it in the time period right after it. We then employ a score function which ranks preferably those rains with a small error before them and a large error after them. \n",
    "Method 2. We use the model trained on periods succeeding manual cleanings. For each rain (or manual cleaning), we measure the prediction error in the time period right before it, and the prediction error in the time period right after it. We then employ a score function which ranks preferably those rains with a large error before them and a small error after them."
   ]
  },
  {
   "cell_type": "markdown",
   "id": "4fcc2cd9",
   "metadata": {},
   "source": [
    "### Initialize parameters"
   ]
  },
  {
   "cell_type": "code",
   "execution_count": 9,
   "id": "7e442a5d",
   "metadata": {},
   "outputs": [],
   "source": [
    "wa1 = 10  # window-length of days to train (before the rain), for Method 1\n",
    "wa2 = 5 # window-length of days to validate (before the rain), for Method 1\n",
    "wa3 = 10 # window-length of days to test (after the rain), for Method 1\n",
    "wb1 = 10 # window-length of days to test (before the rain), for Method 2\n",
    "wb2 = 5 # window-length of days to test (after the rain), for Method 2\n",
    "error_br_column = 5 #0=r_squared, 1=mae, 2=me, 3=mape, 4=mpe, 5=median error\n",
    "error_ar_column = 5\n",
    "thrsh = 1"
   ]
  },
  {
   "cell_type": "code",
   "execution_count": 10,
   "id": "eee323b8",
   "metadata": {},
   "outputs": [],
   "source": [
    "errors_br1 = np.empty((dates_rain_start_filtered.size, 6))\n",
    "errors_ar1 = np.empty((dates_rain_start_filtered.size, 6))\n",
    "scores = np.empty((dates_rain_start_filtered.size))\n",
    "indices = np.empty(len(scores), dtype=int)\n",
    "error_names = {0: \"r_squared\", 1: \"MAE\", 2: \"ME (true-pred)\", 3: \"MAPE\", 4: \"MPE (true-pred)\", 5: \"Median error\"}"
   ]
  },
  {
   "cell_type": "markdown",
   "id": "f41efcda",
   "metadata": {},
   "source": [
    "### Detect changepoints\n",
    "Run Method 1 and Method 2 on all (filtered) rains and manual cleanings. Resulting ids are stored in variables effective_cp1 and effective_cp2 pointing to elements of the two series of potential changepoints: p_changepoints_start and p_changepoints_stop."
   ]
  },
  {
   "cell_type": "code",
   "execution_count": 11,
   "id": "8fa58a82-504f-4bee-a16d-0c19bc67b8c6",
   "metadata": {},
   "outputs": [
    {
     "name": "stdout",
     "output_type": "stream",
     "text": [
      "Number of \"effective\" changepoints using Method 1: 23\n",
      "Number of \"effective\" changepoints using Method 2: 10\n"
     ]
    }
   ],
   "source": [
    "p_changepoints_start = (pd.Series(dates_rain_start_filtered.tolist() + dates_wash_start.tolist()).sort_values())\n",
    "p_changepoints_stop = (pd.Series(dates_rain_stop_filtered.tolist() + dates_wash_stop.tolist()).sort_values())\n",
    "target = 'power'\n",
    "feats = ['irradiance', 'mod_temp']\n",
    "error_name_br = error_names[error_br_column] \n",
    "error_name_ar = error_names[error_ar_column]\n",
    "\n",
    "#compute errors using one model per rain\n",
    "errors_br1, errors_ar1 = calc_changepoints_many_models(df_scaled, p_changepoints_start, p_changepoints_stop, target, feats, wa1, wa2, wa3 )\n",
    "errors_br2, errors_ar2 = calc_changepoints_one_model(df_scaled, p_changepoints_start, p_changepoints_stop, model2, target, feats, wb1, wb2)\n",
    "\n",
    "#set threshold on MAPE error before rain\n",
    "mask1 = (errors_br1[:,3]<= 0.05)\n",
    "mask2 = (errors_br2[:,3]<= 0.05)\n",
    "\n",
    "#compute scores for the remaining\n",
    "scores1 = -(errors_br1[:, error_br_column]-errors_ar1[:, error_ar_column])/np.abs(errors_br1[:, error_ar_column])\n",
    "scores1[(~mask1)] = np.finfo('d').min\n",
    "\n",
    "scores2 = -(errors_br2[:, error_br_column]-errors_ar2[:, error_ar_column])/np.abs(errors_br2[:, error_ar_column])\n",
    "scores2[(~mask2)] = np.finfo('d').min\n",
    "\n",
    "#sort\n",
    "indices1 = np.argsort(-scores1)\n",
    "indices2 = np.argsort(-scores2)\n",
    "\n",
    "#compute final output\n",
    "precip = df.precipitation\n",
    "df_events_output1=pd.DataFrame(output_changepoints(scores1, indices1, p_changepoints_start, p_changepoints_stop, errors_br1[:, error_br_column], errors_ar1[:, error_ar_column], error_name_br, error_name_ar, precip))\n",
    "df_events_output2=pd.DataFrame(output_changepoints(scores2, indices2, p_changepoints_start, p_changepoints_stop, errors_br2[:, error_br_column], errors_ar2[:, error_ar_column], error_name_br, error_name_ar, precip))\n",
    "\n",
    "# effective changepoints = the ones with score at least thrsh  \n",
    "mask1 = (df_events_output1['Score']>thrsh)\n",
    "mask2 = (df_events_output2['Score']>thrsh)\n",
    "\n",
    "effective_cp1 = df_events_output1[mask1][\"id\"].values \n",
    "effective_cp2 = df_events_output2[mask2][\"id\"].values \n",
    "\n",
    "print(f'Number of \"effective\" changepoints using Method 1: {len(set(effective_cp1))}') \n",
    "print(f'Number of \"effective\" changepoints using Method 2: {len(set(effective_cp2))}') \n",
    "\n"
   ]
  },
  {
   "cell_type": "markdown",
   "id": "026f5515",
   "metadata": {},
   "source": [
    "### Train model after changepoints computed by Method 1"
   ]
  },
  {
   "cell_type": "code",
   "execution_count": 12,
   "id": "2df110a8",
   "metadata": {},
   "outputs": [
    {
     "name": "stdout",
     "output_type": "stream",
     "text": [
      "Training Metrics:\n",
      "MAE:0.006 \n",
      "ME(true-pred):-0.000 \n",
      "MAPE:0.027 \n",
      "R2: 0.998\n",
      "\n",
      "Validation Metrics:\n",
      "MAE:0.006 \n",
      "ME(true-pred):0.000 \n",
      "MAPE:0.027 \n",
      "MPE:0.000 \n",
      "R2: 0.998\n",
      "\n"
     ]
    },
    {
     "data": {
      "text/plain": [
       "array([9.98453888e-01, 6.28065169e-03, 1.49303083e-05, 2.67642784e-02,\n",
       "       6.36238002e-05, 1.18265552e-03])"
      ]
     },
     "execution_count": 12,
     "metadata": {},
     "output_type": "execute_result"
    }
   ],
   "source": [
    "ref_points = pd.Index(pd.Series(p_changepoints_stop.iloc[list(effective_cp1)]))\n",
    "model1, training_error, validation_error = train_on_reference_points(df_scaled, w_train, ref_points, feats, target)\n",
    "validation_error"
   ]
  },
  {
   "cell_type": "markdown",
   "id": "0bb721be",
   "metadata": {},
   "source": [
    "### Train model after changepoints computed by Method 2"
   ]
  },
  {
   "cell_type": "code",
   "execution_count": 13,
   "id": "49816b56",
   "metadata": {},
   "outputs": [
    {
     "name": "stdout",
     "output_type": "stream",
     "text": [
      "Training Metrics:\n",
      "MAE:0.008 \n",
      "ME(true-pred):0.000 \n",
      "MAPE:0.029 \n",
      "R2: 0.998\n",
      "\n",
      "Validation Metrics:\n",
      "MAE:0.007 \n",
      "ME(true-pred):0.000 \n",
      "MAPE:0.029 \n",
      "MPE:0.000 \n",
      "R2: 0.998\n",
      "\n"
     ]
    },
    {
     "data": {
      "text/plain": [
       "array([9.97995984e-01, 7.49104373e-03, 8.86817975e-05, 2.85059501e-02,\n",
       "       3.37464175e-04, 1.21819172e-03])"
      ]
     },
     "execution_count": 13,
     "metadata": {},
     "output_type": "execute_result"
    }
   ],
   "source": [
    "ref_points = pd.Index(pd.Series(p_changepoints_stop.iloc[list(effective_cp2)]))\n",
    "model3, training_error, validation_error = train_on_reference_points(df_scaled, w_train, ref_points, feats, target)\n",
    "validation_error"
   ]
  },
  {
   "cell_type": "markdown",
   "id": "4b16c90f",
   "metadata": {},
   "source": [
    "### Compare three regression models"
   ]
  },
  {
   "cell_type": "code",
   "execution_count": 14,
   "id": "da4bc78f",
   "metadata": {},
   "outputs": [
    {
     "name": "stdout",
     "output_type": "stream",
     "text": [
      "<class 'pandas.core.series.Series'>\n"
     ]
    },
    {
     "data": {
      "text/plain": [
       "<matplotlib.legend.Legend at 0x7f140868d610>"
      ]
     },
     "execution_count": 14,
     "metadata": {},
     "output_type": "execute_result"
    },
    {
     "data": {
      "image/png": "[encoded data removed]",
      "text/plain": [
       "<Figure size 864x576 with 1 Axes>"
      ]
     },
     "metadata": {
      "needs_background": "light"
     },
     "output_type": "display_data"
    }
   ],
   "source": [
    "y_pred1 = predict(df_scaled, model1, feats, target)\n",
    "y_pred2 = predict(df_scaled, model2, feats, target)\n",
    "y_pred3 = predict(df_scaled, model3, feats, target)\n",
    "derate1 = np.maximum(np.minimum(df_scaled.power/y_pred1,1),0.0)\n",
    "print(type(derate1))\n",
    "derate1 = derate1.rolling('1D', min_periods=1,center = True).median()\n",
    "derate2 = np.maximum(np.minimum(df_scaled.power/y_pred2,1),0.0)\n",
    "derate2 = derate2.rolling('1D', min_periods=1, center = True).median()\n",
    "derate3 = np.maximum(np.minimum(df_scaled.power/y_pred3,1),0.0)\n",
    "derate3 = derate3.rolling('1D', min_periods=1, center = True).median()\n",
    "ax1 = df['soiling_derate'].plot(figsize=(12,8), color = 'goldenrod',label = 'soiling ratio')\n",
    "ax1.plot(derate1, color = 'blue', alpha = 0.3, label = 'model1')\n",
    "ax1.plot(derate2, color = 'red', alpha = 0.4, label = 'model2')\n",
    "ax1.plot(derate3, color = 'green', alpha = 0.5, label = 'model3')\n",
    "plt.legend()"
   ]
  },
  {
   "cell_type": "markdown",
   "id": "a6ccccdd",
   "metadata": {},
   "source": [
    "## Segmentation using changepoints obtained by Method 1"
   ]
  },
  {
   "cell_type": "code",
   "execution_count": 15,
   "id": "2160f254",
   "metadata": {},
   "outputs": [],
   "source": [
    "dates_changepoints = pd.DatetimeIndex(p_changepoints_stop.iloc[list(effective_cp1)])\n",
    "dates_start = (pd.Index(pd.Series(p_changepoints_start.iloc[list(effective_cp1)].tolist()).sort_values()))\n",
    "dates_stop = (pd.Index(pd.Series(p_changepoints_stop.iloc[list(effective_cp1)].tolist()).sort_values()))\n",
    "dates_start = dates_start.union([max(df.index)])\n",
    "dates_stop = dates_stop.union([min(df.index)])"
   ]
  },
  {
   "cell_type": "markdown",
   "id": "3b1d1929",
   "metadata": {},
   "source": [
    "### Assign scores to segments\n",
    "Compute slopes and mpe errors. Expected power output is modelled using the regression model trained after changepoints obtained by Method 1. The user can switch from model1 to model2 or model3 by changing the assignment of variable ref_model."
   ]
  },
  {
   "cell_type": "code",
   "execution_count": 16,
   "id": "d37962b0",
   "metadata": {},
   "outputs": [],
   "source": [
    "feats = ['irradiance', 'mod_temp']\n",
    "target = 'power'\n",
    "ref_model = model1\n",
    "slopes = []\n",
    "mpe_scores = []\n",
    "sign_slopes = []\n",
    "for j, d2 in enumerate(dates_start):\n",
    "    d1 = dates_stop[dates_stop.get_loc(d2, method='pad')]\n",
    "    try:\n",
    "        y_pred = predict(df_scaled.loc[d1:d2], ref_model, feats, target)\n",
    "        diff = (df_scaled.loc[d1:d2].power - y_pred).values\n",
    "        line , slope, _ = get_ts_line_and_slope(diff)\n",
    "        mpe_scores.append(st.score_segment(df_scaled.loc[d1:d2].power, y_pred)[0])\n",
    "        slopes.append(-slope)\n",
    "        sign_slopes.append(np.sign(-slope))\n",
    "    except:\n",
    "        sign_slopes.append(np.finfo('d').min)\n",
    "        slopes.append(np.finfo('d').min)\n",
    "        mpe_scores.append(1)"
   ]
  },
  {
   "cell_type": "markdown",
   "id": "39bd90fb",
   "metadata": {},
   "source": [
    "### Compute output"
   ]
  },
  {
   "cell_type": "code",
   "execution_count": 17,
   "id": "d79bac48",
   "metadata": {},
   "outputs": [],
   "source": [
    "indices = np.argsort(np.array(mpe_scores)*(np.array(sign_slopes)))\n",
    "all_scores = [] \n",
    "all_dates_start = []\n",
    "all_dates_end = []\n",
    "for j in indices:\n",
    "    d2 = dates_start[j]\n",
    "    d1 = dates_stop[dates_stop.get_loc(d2, method='pad')]\n",
    "    try: \n",
    "        d3 = dates_stop[dates_stop.get_loc(d2, method='bfill')]\n",
    "        d4 = d3 + pd.to_timedelta(d2-d1) \n",
    "    except:\n",
    "        d3 = d2\n",
    "        d4 = d2\n",
    "    if slopes[j] > 0 and mpe_scores[j]<0 and len(df_scaled.loc[d1:d2])>0: \n",
    "        y_pred = predict(df_scaled.loc[d1:d2], model1, feats, target)\n",
    "        all_dates_start.append(d1)\n",
    "        all_dates_end.append(d2)\n",
    "        all_scores.append(-sign_slopes[j]*mpe_scores[j])\n",
    "        diff = ((df_scaled.loc[d1:d2].power - y_pred))\n",
    "        line , slope, _ = get_ts_line_and_slope(diff.values)\n",
    "                        \n",
    "df_segments_output = (pd.DataFrame.from_dict({\"Score\": all_scores, \"Starting date\": all_dates_start, \"Ending date\": all_dates_end}))    \n"
   ]
  },
  {
   "cell_type": "markdown",
   "id": "679fa62c",
   "metadata": {},
   "source": [
    "### Print output"
   ]
  },
  {
   "cell_type": "code",
   "execution_count": 18,
   "id": "5e95ba6a",
   "metadata": {
    "scrolled": true
   },
   "outputs": [
    {
     "data": {
      "text/html": [
       "<div>\n",
       "<style scoped>\n",
       "    .dataframe tbody tr th:only-of-type {\n",
       "        vertical-align: middle;\n",
       "    }\n",
       "\n",
       "    .dataframe tbody tr th {\n",
       "        vertical-align: top;\n",
       "    }\n",
       "\n",
       "    .dataframe thead th {\n",
       "        text-align: right;\n",
       "    }\n",
       "</style>\n",
       "<table border=\"1\" class=\"dataframe\">\n",
       "  <thead>\n",
       "    <tr style=\"text-align: right;\">\n",
       "      <th></th>\n",
       "      <th>Score</th>\n",
       "      <th>Starting date</th>\n",
       "      <th>Ending date</th>\n",
       "    </tr>\n",
       "  </thead>\n",
       "  <tbody>\n",
       "    <tr>\n",
       "      <th>0</th>\n",
       "      <td>0.017802</td>\n",
       "      <td>2013-06-20 05:30:02</td>\n",
       "      <td>2013-08-07 17:00:02</td>\n",
       "    </tr>\n",
       "    <tr>\n",
       "      <th>1</th>\n",
       "      <td>0.015915</td>\n",
       "      <td>2013-08-11 05:50:02</td>\n",
       "      <td>2013-08-14 00:00:00</td>\n",
       "    </tr>\n",
       "    <tr>\n",
       "      <th>2</th>\n",
       "      <td>0.007641</td>\n",
       "      <td>2013-05-17 05:30:02</td>\n",
       "      <td>2013-06-10 07:15:02</td>\n",
       "    </tr>\n",
       "    <tr>\n",
       "      <th>3</th>\n",
       "      <td>0.000874</td>\n",
       "      <td>2014-01-09 08:25:02</td>\n",
       "      <td>2014-01-20 16:45:02</td>\n",
       "    </tr>\n",
       "  </tbody>\n",
       "</table>\n",
       "</div>"
      ],
      "text/plain": [
       "      Score       Starting date         Ending date\n",
       "0  0.017802 2013-06-20 05:30:02 2013-08-07 17:00:02\n",
       "1  0.015915 2013-08-11 05:50:02 2013-08-14 00:00:00\n",
       "2  0.007641 2013-05-17 05:30:02 2013-06-10 07:15:02\n",
       "3  0.000874 2014-01-09 08:25:02 2014-01-20 16:45:02"
      ]
     },
     "execution_count": 18,
     "metadata": {},
     "output_type": "execute_result"
    }
   ],
   "source": [
    "df_segments_output"
   ]
  },
  {
   "cell_type": "markdown",
   "id": "e6f96b94",
   "metadata": {},
   "source": [
    "## Segmentation using changepoints obtained by Method 2"
   ]
  },
  {
   "cell_type": "code",
   "execution_count": 19,
   "id": "3d565d2a",
   "metadata": {},
   "outputs": [],
   "source": [
    "dates_changepoints = pd.DatetimeIndex(p_changepoints_stop.iloc[list(effective_cp2)])\n",
    "# these dates are used by the deviation detection tool\n",
    "dates_start = (pd.Index(pd.Series(p_changepoints_start.iloc[list(effective_cp2)].tolist()).sort_values()))\n",
    "dates_stop = (pd.Index(pd.Series(p_changepoints_stop.iloc[list(effective_cp2)].tolist()).sort_values()))\n",
    "dates_start = dates_start.union([max(df.index)])\n",
    "dates_stop = dates_stop.union([min(df.index)])"
   ]
  },
  {
   "cell_type": "markdown",
   "id": "56343930",
   "metadata": {},
   "source": [
    "### Assign scores to segments\n",
    "Compute slopes and mpe errors. Expected power output is modelled using the regression model trained after changepoints obtained by Method 2. One can switch from model1 to model2 or model3, by changing the assignment of variable ref_model."
   ]
  },
  {
   "cell_type": "code",
   "execution_count": 20,
   "id": "ec88427b",
   "metadata": {},
   "outputs": [],
   "source": [
    "feats = ['irradiance', 'mod_temp']\n",
    "target = 'power'\n",
    "ref_model = model3\n",
    "slopes = []\n",
    "mpe_scores = []\n",
    "sign_slopes = []\n",
    "for j, d2 in enumerate(dates_start):\n",
    "    d1 = dates_stop[dates_stop.get_loc(d2, method='pad')]\n",
    "    try:\n",
    "        y_pred = predict(df_scaled.loc[d1:d2], ref_model, feats, target)\n",
    "        diff = (df_scaled.loc[d1:d2].power - y_pred).values\n",
    "        line , slope, _ = get_ts_line_and_slope(diff)\n",
    "        mpe_scores.append(st.score_segment(df_scaled.loc[d1:d2].power, y_pred)[0])\n",
    "        slopes.append(-slope)\n",
    "        sign_slopes.append(np.sign(-slope))\n",
    "    except:\n",
    "        sign_slopes.append(np.finfo('d').min)\n",
    "        slopes.append(np.finfo('d').min)\n",
    "        mpe_scores.append(1)\n",
    "\n"
   ]
  },
  {
   "cell_type": "markdown",
   "id": "503ae5d1",
   "metadata": {},
   "source": [
    "### Compute output"
   ]
  },
  {
   "cell_type": "code",
   "execution_count": 21,
   "id": "9644415e",
   "metadata": {},
   "outputs": [],
   "source": [
    "indices = np.argsort(np.array(mpe_scores)*(np.array(sign_slopes)))\n",
    "all_scores = [] \n",
    "all_dates_start = []\n",
    "all_dates_end = []\n",
    "for j in indices:\n",
    "    d2 = dates_start[j]\n",
    "    d1 = dates_stop[dates_stop.get_loc(d2, method='pad')]\n",
    "    try: \n",
    "        d3 = dates_stop[dates_stop.get_loc(d2, method='bfill')]\n",
    "        d4 = d3 + pd.to_timedelta(d2-d1) \n",
    "    except:\n",
    "        d3 = d2\n",
    "        d4 = d2\n",
    "    if slopes[j] > 0 and mpe_scores[j]<0 and len(df_scaled.loc[d1:d2])>0: \n",
    "        y_pred = predict(df_scaled.loc[d1:d2], model3, feats, target)\n",
    "        all_dates_start.append(d1)\n",
    "        all_dates_end.append(d2)\n",
    "        all_scores.append(-sign_slopes[j]*mpe_scores[j])\n",
    "        diff = ((df_scaled.loc[d1:d2].power - y_pred))\n",
    "        line , slope, _ = get_ts_line_and_slope(diff.values)\n",
    "        \n",
    "                \n",
    "df_segments_output = (pd.DataFrame.from_dict({\"Score\": all_scores, \"Starting date\": all_dates_start, \"Ending date\": all_dates_end}))    \n"
   ]
  },
  {
   "cell_type": "markdown",
   "id": "d14d5997",
   "metadata": {},
   "source": [
    "### Print output"
   ]
  },
  {
   "cell_type": "code",
   "execution_count": 22,
   "id": "91d5bdfc",
   "metadata": {},
   "outputs": [
    {
     "data": {
      "text/html": [
       "<div>\n",
       "<style scoped>\n",
       "    .dataframe tbody tr th:only-of-type {\n",
       "        vertical-align: middle;\n",
       "    }\n",
       "\n",
       "    .dataframe tbody tr th {\n",
       "        vertical-align: top;\n",
       "    }\n",
       "\n",
       "    .dataframe thead th {\n",
       "        text-align: right;\n",
       "    }\n",
       "</style>\n",
       "<table border=\"1\" class=\"dataframe\">\n",
       "  <thead>\n",
       "    <tr style=\"text-align: right;\">\n",
       "      <th></th>\n",
       "      <th>Score</th>\n",
       "      <th>Starting date</th>\n",
       "      <th>Ending date</th>\n",
       "    </tr>\n",
       "  </thead>\n",
       "  <tbody>\n",
       "    <tr>\n",
       "      <th>0</th>\n",
       "      <td>0.011742</td>\n",
       "      <td>2013-06-21 05:40:02</td>\n",
       "      <td>2013-08-14 00:00:00</td>\n",
       "    </tr>\n",
       "    <tr>\n",
       "      <th>1</th>\n",
       "      <td>0.006444</td>\n",
       "      <td>2013-05-25 05:30:02</td>\n",
       "      <td>2013-06-10 07:15:02</td>\n",
       "    </tr>\n",
       "  </tbody>\n",
       "</table>\n",
       "</div>"
      ],
      "text/plain": [
       "      Score       Starting date         Ending date\n",
       "0  0.011742 2013-06-21 05:40:02 2013-08-14 00:00:00\n",
       "1  0.006444 2013-05-25 05:30:02 2013-06-10 07:15:02"
      ]
     },
     "execution_count": 22,
     "metadata": {},
     "output_type": "execute_result"
    }
   ],
   "source": [
    "df_segments_output"
   ]
  },
  {
   "cell_type": "code",
   "execution_count": null,
   "id": "47a3d76a",
   "metadata": {},
   "outputs": [],
   "source": []
  }
 ],
 "metadata": {
  "kernelspec": {
   "display_name": "Python 3 (ipykernel)",
   "language": "python",
   "name": "python3"
  },
  "language_info": {
   "codemirror_mode": {
    "name": "ipython",
    "version": 3
   },
   "file_extension": ".py",
   "mimetype": "text/x-python",
   "name": "python",
   "nbconvert_exporter": "python",
   "pygments_lexer": "ipython3",
   "version": "3.8.10"
  }
 },
 "nbformat": 4,
 "nbformat_minor": 5
}
